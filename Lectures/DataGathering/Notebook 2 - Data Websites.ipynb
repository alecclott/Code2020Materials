{
 "cells": [
  {
   "cell_type": "markdown",
   "metadata": {},
   "source": [
    "## What You'll Accomplish in this Notebook\n",
    "\n",
    "In this notebook we'll learn about a few online sources of data."
   ]
  },
  {
   "cell_type": "code",
   "execution_count": 1,
   "metadata": {},
   "outputs": [],
   "source": [
    "# These packages will be used today\n",
    "import pandas as pd"
   ]
  },
  {
   "cell_type": "markdown",
   "metadata": {},
   "source": [
    "# Gathering Data\n",
    "\n",
    "Before you can start any data science project you will need data. \n",
    "\n",
    "If you take a position as a data scientist, machine learning engineer, or any other number of related roles you will often be provided data by your employer. However, until then you will need to find data yourself. In this notebook we will review some methods to find publiclly available data, as well as go through some data basics we'll use throughout this course.\n",
    "\n",
    "Let's get started!"
   ]
  },
  {
   "cell_type": "markdown",
   "metadata": {},
   "source": [
    "## Data Via Websites\n",
    "\n",
    "Probably the easiest way to get data is via websites dedicated to providing data sets. \n",
    "\n",
    "### Academic Repositories\n",
    "These can be academic data repositories such as the <a href = \"https://archive.ics.uci.edu/ml/index.php\">UC Irvine Machine Learning Repository</a>. Visit and download a file.\n",
    "\n",
    "I downloaded one about forest fires, it can be loaded below."
   ]
  },
  {
   "cell_type": "code",
   "execution_count": null,
   "metadata": {},
   "outputs": [],
   "source": [
    "# When data is stored in csv format, you can\n",
    "# read it in like this. csv stands for \n",
    "# comma separated values. This is one\n",
    "# common method of storing data\n",
    "df = pd.read_csv(\"forestfires.csv\")"
   ]
  },
  {
   "cell_type": "code",
   "execution_count": null,
   "metadata": {},
   "outputs": [],
   "source": [
    "# This gives us the first 5 entries of the data set\n",
    "df.head()"
   ]
  },
  {
   "cell_type": "markdown",
   "metadata": {},
   "source": [
    "Sites like this are designed to hold popular data sets from research papers. These data sets are often set up to test the performance of new machine learning algorithms.\n",
    "\n",
    "### Data Science Competition Sites\n",
    "\n",
    "Another example of data hosting website is a data science competition site. One of the most popular is <a href = \"https://www.kaggle.com/\">Kaggle</a>. These sites host competitions, often with prizes attached. They also have pages of user submitted data sets. Try going to the datasets tab here, <a href-\"https://www.kaggle.com/datasets\">https://www.kaggle.com/datasets</a>, and downloading a file. Then read it in here."
   ]
  },
  {
   "cell_type": "code",
   "execution_count": null,
   "metadata": {},
   "outputs": [],
   "source": [
    "## We'll find and read in our example here\n",
    "\n",
    "\n",
    "\n",
    "\n"
   ]
  },
  {
   "cell_type": "code",
   "execution_count": null,
   "metadata": {},
   "outputs": [],
   "source": [
    "df.head()"
   ]
  },
  {
   "cell_type": "markdown",
   "metadata": {},
   "source": [
    "Other data competition websites include <a href = \"https://www.drivendata.org/\">DrivenData</a>, <a href = \"https://www.crowdanalytix.com/community\">CrowdANALYTIX</a>, <a href = \"https://codalab.org/\">CodaLab</a>, and <a href = \"https://www.datasciencechallenge.org/\">Data Science Challenge</a>.\n",
    "\n",
    "### Data on Github Repositories\n",
    "\n",
    "Another source of data on the web is github. As we saw in Notebook 1 many popular news sites will post their interesting data sets on their github repositories. Two that I like are the <a href=\"https://fivethirtyeight.com/\">FiveThirtyEight</a> repository, <a href=\"https://github.com/fivethirtyeight/\">https://github.com/fivethirtyeight/</a>, and the <a href=\"https://pudding.cool/\">pudding.cool</a> repository, <a href=\"https://github.com/the-pudding/data\">https://github.com/the-pudding/data</a>.\n",
    "\n",
    "Feel free to take a couple minutes to explore those.\n",
    "\n",
    "That's it for data websites, next up web scraping with `BeautifulSoup`"
   ]
  },
  {
   "cell_type": "code",
   "execution_count": null,
   "metadata": {},
   "outputs": [],
   "source": []
  }
 ],
 "metadata": {
  "kernelspec": {
   "display_name": "Python 3",
   "language": "python",
   "name": "python3"
  },
  "language_info": {
   "codemirror_mode": {
    "name": "ipython",
    "version": 3
   },
   "file_extension": ".py",
   "mimetype": "text/x-python",
   "name": "python",
   "nbconvert_exporter": "python",
   "pygments_lexer": "ipython3",
   "version": "3.7.7"
  }
 },
 "nbformat": 4,
 "nbformat_minor": 2
}
